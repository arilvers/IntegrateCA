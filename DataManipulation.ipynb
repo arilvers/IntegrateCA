{
  "nbformat": 4,
  "nbformat_minor": 0,
  "metadata": {
    "colab": {
      "name": "DataManipulation.ipynb",
      "provenance": [],
      "authorship_tag": "ABX9TyMQSx7Cue7l1/b2wMGcJA4+",
      "include_colab_link": true
    },
    "kernelspec": {
      "name": "ir",
      "display_name": "R"
    },
    "language_info": {
      "name": "R"
    }
  },
  "cells": [
    {
      "cell_type": "markdown",
      "metadata": {
        "id": "view-in-github",
        "colab_type": "text"
      },
      "source": [
        "<a href=\"https://colab.research.google.com/github/arilvers/IntegrateCA/blob/main/DataManipulation.ipynb\" target=\"_parent\"><img src=\"https://colab.research.google.com/assets/colab-badge.svg\" alt=\"Open In Colab\"/></a>"
      ]
    },
    {
      "cell_type": "code",
      "execution_count": 50,
      "metadata": {
        "id": "9GrF_y2UxYYq"
      },
      "outputs": [],
      "source": [
        "library(readr)\n",
        "library(lubridate)\n",
        "library(dplyr)\n",
        "library(tidyverse)\n",
        "library(ggplot2)\n"
      ]
    },
    {
      "cell_type": "code",
      "source": [
        "fires <- read_csv(\"https://raw.githubusercontent.com/arilvers/IntegrateCA/main/forestfires.csv\")"
      ],
      "metadata": {
        "colab": {
          "base_uri": "https://localhost:8080/"
        },
        "id": "70Yoel5m16Q3",
        "outputId": "fd71c2ba-e3ac-4223-8bc7-c251cc8f6193"
      },
      "execution_count": 51,
      "outputs": [
        {
          "output_type": "stream",
          "name": "stderr",
          "text": [
            "\u001b[1mRows: \u001b[22m\u001b[34m517\u001b[39m \u001b[1mColumns: \u001b[22m\u001b[34m13\u001b[39m\n",
            "\n",
            "\u001b[36m──\u001b[39m \u001b[1mColumn specification\u001b[22m \u001b[36m────────────────────────────────────────────────────────\u001b[39m\n",
            "\u001b[1mDelimiter:\u001b[22m \",\"\n",
            "\u001b[31mchr\u001b[39m  (2): month, day\n",
            "\u001b[32mdbl\u001b[39m (11): X, Y, FFMC, DMC, DC, ISI, temp, RH, wind, rain, area\n",
            "\n",
            "\n",
            "\u001b[36mℹ\u001b[39m Use \u001b[30m\u001b[47m\u001b[30m\u001b[47m`spec()`\u001b[47m\u001b[30m\u001b[49m\u001b[39m to retrieve the full column specification for this data.\n",
            "\u001b[36mℹ\u001b[39m Specify the column types or set \u001b[30m\u001b[47m\u001b[30m\u001b[47m`show_col_types = FALSE`\u001b[47m\u001b[30m\u001b[49m\u001b[39m to quiet this message.\n",
            "\n"
          ]
        }
      ]
    },
    {
      "cell_type": "code",
      "source": [
        "str(fires)"
      ],
      "metadata": {
        "colab": {
          "base_uri": "https://localhost:8080/"
        },
        "id": "mZZuQnzk7HH_",
        "outputId": "7e29a21c-1bf6-4e5a-f827-c76c7d212b49"
      },
      "execution_count": 52,
      "outputs": [
        {
          "output_type": "stream",
          "name": "stdout",
          "text": [
            "spec_tbl_df [517 × 13] (S3: spec_tbl_df/tbl_df/tbl/data.frame)\n",
            " $ X    : num [1:517] 7 7 7 8 8 8 8 8 8 7 ...\n",
            " $ Y    : num [1:517] 5 4 4 6 6 6 6 6 6 5 ...\n",
            " $ month: chr [1:517] \"mar\" \"oct\" \"oct\" \"mar\" ...\n",
            " $ day  : chr [1:517] \"fri\" \"tue\" \"sat\" \"fri\" ...\n",
            " $ FFMC : num [1:517] 86.2 90.6 90.6 91.7 89.3 92.3 92.3 91.5 91 92.5 ...\n",
            " $ DMC  : num [1:517] 26.2 35.4 43.7 33.3 51.3 ...\n",
            " $ DC   : num [1:517] 94.3 669.1 686.9 77.5 102.2 ...\n",
            " $ ISI  : num [1:517] 5.1 6.7 6.7 9 9.6 14.7 8.5 10.7 7 7.1 ...\n",
            " $ temp : num [1:517] 8.2 18 14.6 8.3 11.4 22.2 24.1 8 13.1 22.8 ...\n",
            " $ RH   : num [1:517] 51 33 33 97 99 29 27 86 63 40 ...\n",
            " $ wind : num [1:517] 6.7 0.9 1.3 4 1.8 5.4 3.1 2.2 5.4 4 ...\n",
            " $ rain : num [1:517] 0 0 0 0.2 0 0 0 0 0 0 ...\n",
            " $ area : num [1:517] 0 0 0 0 0 0 0 0 0 0 ...\n",
            " - attr(*, \"spec\")=\n",
            "  .. cols(\n",
            "  ..   X = \u001b[32mcol_double()\u001b[39m,\n",
            "  ..   Y = \u001b[32mcol_double()\u001b[39m,\n",
            "  ..   month = \u001b[31mcol_character()\u001b[39m,\n",
            "  ..   day = \u001b[31mcol_character()\u001b[39m,\n",
            "  ..   FFMC = \u001b[32mcol_double()\u001b[39m,\n",
            "  ..   DMC = \u001b[32mcol_double()\u001b[39m,\n",
            "  ..   DC = \u001b[32mcol_double()\u001b[39m,\n",
            "  ..   ISI = \u001b[32mcol_double()\u001b[39m,\n",
            "  ..   temp = \u001b[32mcol_double()\u001b[39m,\n",
            "  ..   RH = \u001b[32mcol_double()\u001b[39m,\n",
            "  ..   wind = \u001b[32mcol_double()\u001b[39m,\n",
            "  ..   rain = \u001b[32mcol_double()\u001b[39m,\n",
            "  ..   area = \u001b[32mcol_double()\u001b[39m\n",
            "  .. )\n",
            " - attr(*, \"problems\")=<externalptr> \n"
          ]
        }
      ]
    },
    {
      "cell_type": "code",
      "source": [
        "head(fires)"
      ],
      "metadata": {
        "colab": {
          "base_uri": "https://localhost:8080/",
          "height": 286
        },
        "id": "Oq8hHCm02FHO",
        "outputId": "f60699a4-9f04-420a-a0c7-84faaea91e09"
      },
      "execution_count": 53,
      "outputs": [
        {
          "output_type": "display_data",
          "data": {
            "text/plain": [
              "  X Y month day FFMC DMC  DC    ISI  temp RH wind rain area\n",
              "1 7 5 mar   fri 86.2 26.2  94.3  5.1  8.2 51 6.7  0.0  0   \n",
              "2 7 4 oct   tue 90.6 35.4 669.1  6.7 18.0 33 0.9  0.0  0   \n",
              "3 7 4 oct   sat 90.6 43.7 686.9  6.7 14.6 33 1.3  0.0  0   \n",
              "4 8 6 mar   fri 91.7 33.3  77.5  9.0  8.3 97 4.0  0.2  0   \n",
              "5 8 6 mar   sun 89.3 51.3 102.2  9.6 11.4 99 1.8  0.0  0   \n",
              "6 8 6 aug   sun 92.3 85.3 488.0 14.7 22.2 29 5.4  0.0  0   "
            ],
            "text/latex": "A tibble: 6 × 13\n\\begin{tabular}{lllllllllllll}\n X & Y & month & day & FFMC & DMC & DC & ISI & temp & RH & wind & rain & area\\\\\n <dbl> & <dbl> & <chr> & <chr> & <dbl> & <dbl> & <dbl> & <dbl> & <dbl> & <dbl> & <dbl> & <dbl> & <dbl>\\\\\n\\hline\n\t 7 & 5 & mar & fri & 86.2 & 26.2 &  94.3 &  5.1 &  8.2 & 51 & 6.7 & 0.0 & 0\\\\\n\t 7 & 4 & oct & tue & 90.6 & 35.4 & 669.1 &  6.7 & 18.0 & 33 & 0.9 & 0.0 & 0\\\\\n\t 7 & 4 & oct & sat & 90.6 & 43.7 & 686.9 &  6.7 & 14.6 & 33 & 1.3 & 0.0 & 0\\\\\n\t 8 & 6 & mar & fri & 91.7 & 33.3 &  77.5 &  9.0 &  8.3 & 97 & 4.0 & 0.2 & 0\\\\\n\t 8 & 6 & mar & sun & 89.3 & 51.3 & 102.2 &  9.6 & 11.4 & 99 & 1.8 & 0.0 & 0\\\\\n\t 8 & 6 & aug & sun & 92.3 & 85.3 & 488.0 & 14.7 & 22.2 & 29 & 5.4 & 0.0 & 0\\\\\n\\end{tabular}\n",
            "text/markdown": "\nA tibble: 6 × 13\n\n| X &lt;dbl&gt; | Y &lt;dbl&gt; | month &lt;chr&gt; | day &lt;chr&gt; | FFMC &lt;dbl&gt; | DMC &lt;dbl&gt; | DC &lt;dbl&gt; | ISI &lt;dbl&gt; | temp &lt;dbl&gt; | RH &lt;dbl&gt; | wind &lt;dbl&gt; | rain &lt;dbl&gt; | area &lt;dbl&gt; |\n|---|---|---|---|---|---|---|---|---|---|---|---|---|\n| 7 | 5 | mar | fri | 86.2 | 26.2 |  94.3 |  5.1 |  8.2 | 51 | 6.7 | 0.0 | 0 |\n| 7 | 4 | oct | tue | 90.6 | 35.4 | 669.1 |  6.7 | 18.0 | 33 | 0.9 | 0.0 | 0 |\n| 7 | 4 | oct | sat | 90.6 | 43.7 | 686.9 |  6.7 | 14.6 | 33 | 1.3 | 0.0 | 0 |\n| 8 | 6 | mar | fri | 91.7 | 33.3 |  77.5 |  9.0 |  8.3 | 97 | 4.0 | 0.2 | 0 |\n| 8 | 6 | mar | sun | 89.3 | 51.3 | 102.2 |  9.6 | 11.4 | 99 | 1.8 | 0.0 | 0 |\n| 8 | 6 | aug | sun | 92.3 | 85.3 | 488.0 | 14.7 | 22.2 | 29 | 5.4 | 0.0 | 0 |\n\n",
            "text/html": [
              "<table class=\"dataframe\">\n",
              "<caption>A tibble: 6 × 13</caption>\n",
              "<thead>\n",
              "\t<tr><th scope=col>X</th><th scope=col>Y</th><th scope=col>month</th><th scope=col>day</th><th scope=col>FFMC</th><th scope=col>DMC</th><th scope=col>DC</th><th scope=col>ISI</th><th scope=col>temp</th><th scope=col>RH</th><th scope=col>wind</th><th scope=col>rain</th><th scope=col>area</th></tr>\n",
              "\t<tr><th scope=col>&lt;dbl&gt;</th><th scope=col>&lt;dbl&gt;</th><th scope=col>&lt;chr&gt;</th><th scope=col>&lt;chr&gt;</th><th scope=col>&lt;dbl&gt;</th><th scope=col>&lt;dbl&gt;</th><th scope=col>&lt;dbl&gt;</th><th scope=col>&lt;dbl&gt;</th><th scope=col>&lt;dbl&gt;</th><th scope=col>&lt;dbl&gt;</th><th scope=col>&lt;dbl&gt;</th><th scope=col>&lt;dbl&gt;</th><th scope=col>&lt;dbl&gt;</th></tr>\n",
              "</thead>\n",
              "<tbody>\n",
              "\t<tr><td>7</td><td>5</td><td>mar</td><td>fri</td><td>86.2</td><td>26.2</td><td> 94.3</td><td> 5.1</td><td> 8.2</td><td>51</td><td>6.7</td><td>0.0</td><td>0</td></tr>\n",
              "\t<tr><td>7</td><td>4</td><td>oct</td><td>tue</td><td>90.6</td><td>35.4</td><td>669.1</td><td> 6.7</td><td>18.0</td><td>33</td><td>0.9</td><td>0.0</td><td>0</td></tr>\n",
              "\t<tr><td>7</td><td>4</td><td>oct</td><td>sat</td><td>90.6</td><td>43.7</td><td>686.9</td><td> 6.7</td><td>14.6</td><td>33</td><td>1.3</td><td>0.0</td><td>0</td></tr>\n",
              "\t<tr><td>8</td><td>6</td><td>mar</td><td>fri</td><td>91.7</td><td>33.3</td><td> 77.5</td><td> 9.0</td><td> 8.3</td><td>97</td><td>4.0</td><td>0.2</td><td>0</td></tr>\n",
              "\t<tr><td>8</td><td>6</td><td>mar</td><td>sun</td><td>89.3</td><td>51.3</td><td>102.2</td><td> 9.6</td><td>11.4</td><td>99</td><td>1.8</td><td>0.0</td><td>0</td></tr>\n",
              "\t<tr><td>8</td><td>6</td><td>aug</td><td>sun</td><td>92.3</td><td>85.3</td><td>488.0</td><td>14.7</td><td>22.2</td><td>29</td><td>5.4</td><td>0.0</td><td>0</td></tr>\n",
              "</tbody>\n",
              "</table>\n"
            ]
          },
          "metadata": {}
        }
      ]
    },
    {
      "cell_type": "code",
      "source": [
        "firesinmonths <- fires %>%  #Number of forest fires by month\n",
        "  group_by(month) %>%\n",
        "  summarise(count = n())"
      ],
      "metadata": {
        "id": "XFc-NwLj8v2Y"
      },
      "execution_count": 55,
      "outputs": []
    },
    {
      "cell_type": "code",
      "source": [
        "ggplot(firesinmonths) + \n",
        "  aes(x = month, y = count) +\n",
        "  geom_bar(stat = \"identity\") + \n",
        "  labs(title = \"Number of fires occurred in each month\", x = \"Month\", y = \"Number Fires\") +\n",
        "  theme(panel.background = element_rect(fill = \"white\"))\n"
      ],
      "metadata": {
        "colab": {
          "base_uri": "https://localhost:8080/",
          "height": 437
        },
        "id": "JwY6aGe59xSn",
        "outputId": "645bb618-9cdf-4c15-9b2c-bf3d0bd78e46"
      },
      "execution_count": 61,
      "outputs": [
        {
          "output_type": "display_data",
          "data": {
            "image/png": "[encoded data removed]",
            "text/plain": [
              "plot without title"
            ]
          },
          "metadata": {
            "image/png": {
              "width": 420,
              "height": 420
            }
          }
        }
      ]
    },
    {
      "cell_type": "code",
      "source": [
        "fireindays <- fires %>% #Number of fires by weekly\n",
        "  group_by(day) %>%\n",
        "  summarize(count_weekday = n())"
      ],
      "metadata": {
        "id": "AlY46cNY_F4F"
      },
      "execution_count": 62,
      "outputs": []
    },
    {
      "cell_type": "code",
      "source": [
        "ggplot(fireindays) +\n",
        "  aes(x = day, y = count_weekday) +\n",
        "  geom_bar(stat = \"identity\") +\n",
        "  labs(title = \"Number of fires occurred by each day\", x = \"Day of the week\", y = \"Number of fires\") +\n",
        "  theme(panel.background = element_rect(fill = \"white\"))\n"
      ],
      "metadata": {
        "colab": {
          "base_uri": "https://localhost:8080/",
          "height": 437
        },
        "id": "4rUEsKxd_laZ",
        "outputId": "796117d6-4dce-43f5-ba90-41f7bc44f615"
      },
      "execution_count": 65,
      "outputs": [
        {
          "output_type": "display_data",
          "data": {
            "image/png": "[encoded data removed]",
            "text/plain": [
              "plot without title"
            ]
          },
          "metadata": {
            "image/png": {
              "width": 420,
              "height": 420
            }
          }
        }
      ]
    }
  ]
}