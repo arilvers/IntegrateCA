{
  "nbformat": 4,
  "nbformat_minor": 0,
  "metadata": {
    "colab": {
      "name": "FireDepartment.ipynb",
      "provenance": [],
      "authorship_tag": "ABX9TyNIqxaFGpxaOL15FJcwoNky",
      "include_colab_link": true
    },
    "kernelspec": {
      "name": "python3",
      "display_name": "Python 3"
    },
    "language_info": {
      "name": "python"
    }
  },
  "cells": [
    {
      "cell_type": "markdown",
      "metadata": {
        "id": "view-in-github",
        "colab_type": "text"
      },
      "source": [
        "<a href=\"https://colab.research.google.com/github/arilvers/IntegrateCA/blob/main/FireDepartment.ipynb\" target=\"_parent\"><img src=\"https://colab.research.google.com/assets/colab-badge.svg\" alt=\"Open In Colab\"/></a>"
      ]
    },
    {
      "cell_type": "code",
      "source": [
        "!pip install ipynb"
      ],
      "metadata": {
        "colab": {
          "base_uri": "https://localhost:8080/"
        },
        "id": "nN5PValEVXNU",
        "outputId": "a4098e5e-cc02-4ec1-c79b-d8cd1fd4c58f"
      },
      "execution_count": 112,
      "outputs": [
        {
          "output_type": "stream",
          "name": "stdout",
          "text": [
            "Collecting ipynb\n",
            "  Downloading ipynb-0.5.1-py3-none-any.whl (6.9 kB)\n",
            "Installing collected packages: ipynb\n",
            "Successfully installed ipynb-0.5.1\n"
          ]
        }
      ]
    },
    {
      "cell_type": "code",
      "source": [
        "import pandas as pd\n",
        "from typing import Generic, TypeVar, Dict, List, Optional\n",
        "from abc import ABC, abstractmethod\n",
        "from csp import *\n",
        "\n",
        "\n"
      ],
      "metadata": {
        "id": "_Gz5u6e1PLR0"
      },
      "execution_count": 119,
      "outputs": []
    },
    {
      "cell_type": "code",
      "source": [
        "V = TypeVar('V') #Variable Type\n",
        "D = TypeVar('D') #Domain Type"
      ],
      "metadata": {
        "id": "oNS4yUzEO2ru"
      },
      "execution_count": 92,
      "outputs": []
    },
    {
      "cell_type": "code",
      "source": [
        "class Constraint(Generic[V, D], ABC):\n",
        "  def _init_(self, variables: List[V]) -> None:\n",
        "    self.variables = variables"
      ],
      "metadata": {
        "id": "BC5TX067Q9eM"
      },
      "execution_count": 93,
      "outputs": []
    },
    {
      "cell_type": "code",
      "source": [
        "@abstractmethod\n",
        "def satisfied(self, assignment: Dict[V, D]) -> bool:\n",
        "  self.variables = variables"
      ],
      "metadata": {
        "id": "wYzz7OVRRZs8"
      },
      "execution_count": 94,
      "outputs": []
    },
    {
      "cell_type": "code",
      "source": [
        "class CSP(Generic[V, D]):\n",
        "  def _init_(self, varialbes: List[V], domains: Dict[V, List[D]]) -> None:\n",
        "    self.variables: List[V] = variables\n",
        "    self.domains: Dict[V, List[D]] = domains\n",
        "    self.constraints: dict[V, List[Constraint[V, D]]] = {}\n",
        "    for variable in self.variables:\n",
        "      self.constraints[variables] = []\n",
        "      if variables not in self.domains:\n",
        "        raise LooupError(\"Every domain should have a domain assigned to it.\")\n",
        "  def add_constraint(self, constraint: Constraint[V, D]) -> None:\n",
        "    for variable in constraint.variables:\n",
        "      if variable not in self.variables:\n",
        "        raise LookupError (\"Variable in Constraint not in CSP\")\n",
        "      else:\n",
        "        self.constraints[variables].append(constraint)"
      ],
      "metadata": {
        "id": "NqfAp_W0R9ml"
      },
      "execution_count": 95,
      "outputs": []
    },
    {
      "cell_type": "code",
      "source": [
        "  def consistent(self, variable: V, assignment: Dict[V, D]) -> bool:\n",
        "    for constraint in self.constraints[variables]:\n",
        "      if not constraint.satisfied(assignment):\n",
        "        return False\n",
        "    return True"
      ],
      "metadata": {
        "id": "ySm6bhCwT1vt"
      },
      "execution_count": 96,
      "outputs": []
    },
    {
      "cell_type": "code",
      "source": [
        "  def backtracking_search(self, assignment: Dict[V, D] = {}) -> Optional[Dict[V, D]]:\n",
        "    if len(assignment) == len(self.variables):\n",
        "      return assignment\n",
        "    unassigned: List[V] = [v for v in self.variables if v not in assignment]\n",
        "\n",
        "    first: V = unassigned[0]\n",
        "    for value in self.domains[first]:\n",
        "      local_assignment = assignment.copy()\n",
        "      local_assignment[first] = value\n",
        "      if self.consistent(first, local_assignment):\n",
        "        result: Optional[Dict[V, D]] = self.backtracking_search(local_assignment)\n",
        "        if result is not None:\n",
        "          return result\n",
        "    return None"
      ],
      "metadata": {
        "id": "YyAmYW_VwL4v"
      },
      "execution_count": 123,
      "outputs": []
    },
    {
      "cell_type": "code",
      "source": [
        "class FireDepartment(Constraint[str, str]):\n",
        "  def _init_(self, place1: str, place2: str ) -> None:\n",
        "    super()._init_([place1, place2, ])\n",
        "    self.place1: str = place1\n",
        "    self.place2: str = place2\n",
        "   \n",
        "  def satisfied(self, assignment: Dict[str, str]) -> bool:\n",
        "    if self.place1 not in assignment or self.place2 not in assignment:\n",
        "      return True\n",
        "    return assignment[self.place1] != assignment[self.place2] \n"
      ],
      "metadata": {
        "id": "-q7PB29GWGSE"
      },
      "execution_count": 124,
      "outputs": []
    },
    {
      "cell_type": "code",
      "source": [
        "if __name__ == \"__main__\":\n",
        "  variables: List[str] = [\"Phylis\", \"Ann\", \"Henry\", \"Eva\", \"Bill\", \"Mark\", \"Bob\"]\n",
        "  domains: Dict[str, List[str]] = {}\n",
        "   for variable in variables:\n",
        "    domains[variable] = [\"Room1\", \"Room2\", \"Room4\"]\n",
        "  csp: CSP[str, str] = CSP(variables, domains)\n",
        "  csp.add_constraint(FireDepartment(\"Mark\", \"Bob\"))\n",
        "  csp.add_constraint(FireDepartment(\"Ann\", \"Bill\"))\n",
        "  csp.add_constraint(FireDepartment(\"Ann\", \"Mark\"))\n",
        "  csp.add_constraint(FireDepartment(\"Ann\", \"Bob\"))\n",
        "  csp.add_constraint(FireDepartment(\"Eva\", \"Henry\"))\n",
        "  csp.add_constraint(FireDepartment(\"Mark\", \"Phylis\"))\n",
        "\n"
      ],
      "metadata": {
        "colab": {
          "base_uri": "https://localhost:8080/",
          "height": 134
        },
        "id": "94KooeiPTKYs",
        "outputId": "8d8ce912-9880-4649-992c-23eea5ce0ace"
      },
      "execution_count": 125,
      "outputs": [
        {
          "output_type": "error",
          "ename": "IndentationError",
          "evalue": "ignored",
          "traceback": [
            "\u001b[0;36m  File \u001b[0;32m\"<ipython-input-125-adadb1509988>\"\u001b[0;36m, line \u001b[0;32m4\u001b[0m\n\u001b[0;31m    for variable in variables:\u001b[0m\n\u001b[0m    ^\u001b[0m\n\u001b[0;31mIndentationError\u001b[0m\u001b[0;31m:\u001b[0m unexpected indent\n"
          ]
        }
      ]
    },
    {
      "cell_type": "code",
      "source": [
        "solution: Optional[Dict[str, str]] = csp.backtracking_search()\n",
        "if solution is None:\n",
        "  print(\"No solution found!\")\n",
        "else:\n",
        "  print(solution)"
      ],
      "metadata": {
        "colab": {
          "base_uri": "https://localhost:8080/",
          "height": 243
        },
        "id": "--pXlyOBUhQ0",
        "outputId": "790c02e4-ee67-4cf8-9fd7-7355745979b4"
      },
      "execution_count": 126,
      "outputs": [
        {
          "output_type": "error",
          "ename": "AttributeError",
          "evalue": "ignored",
          "traceback": [
            "\u001b[0;31m---------------------------------------------------------------------------\u001b[0m",
            "\u001b[0;31mAttributeError\u001b[0m                            Traceback (most recent call last)",
            "\u001b[0;32m<ipython-input-126-df6093842de4>\u001b[0m in \u001b[0;36m<module>\u001b[0;34m()\u001b[0m\n\u001b[0;32m----> 1\u001b[0;31m \u001b[0msolution\u001b[0m\u001b[0;34m:\u001b[0m \u001b[0mOptional\u001b[0m\u001b[0;34m[\u001b[0m\u001b[0mDict\u001b[0m\u001b[0;34m[\u001b[0m\u001b[0mstr\u001b[0m\u001b[0;34m,\u001b[0m \u001b[0mstr\u001b[0m\u001b[0;34m]\u001b[0m\u001b[0;34m]\u001b[0m \u001b[0;34m=\u001b[0m \u001b[0mcsp\u001b[0m\u001b[0;34m.\u001b[0m\u001b[0mbacktracking_search\u001b[0m\u001b[0;34m(\u001b[0m\u001b[0;34m)\u001b[0m\u001b[0;34m\u001b[0m\u001b[0;34m\u001b[0m\u001b[0m\n\u001b[0m\u001b[1;32m      2\u001b[0m \u001b[0;32mif\u001b[0m \u001b[0msolution\u001b[0m \u001b[0;32mis\u001b[0m \u001b[0;32mNone\u001b[0m\u001b[0;34m:\u001b[0m\u001b[0;34m\u001b[0m\u001b[0;34m\u001b[0m\u001b[0m\n\u001b[1;32m      3\u001b[0m   \u001b[0mprint\u001b[0m\u001b[0;34m(\u001b[0m\u001b[0;34m\"No solution found!\"\u001b[0m\u001b[0;34m)\u001b[0m\u001b[0;34m\u001b[0m\u001b[0;34m\u001b[0m\u001b[0m\n\u001b[1;32m      4\u001b[0m \u001b[0;32melse\u001b[0m\u001b[0;34m:\u001b[0m\u001b[0;34m\u001b[0m\u001b[0;34m\u001b[0m\u001b[0m\n\u001b[1;32m      5\u001b[0m   \u001b[0mprint\u001b[0m\u001b[0;34m(\u001b[0m\u001b[0msolution\u001b[0m\u001b[0;34m)\u001b[0m\u001b[0;34m\u001b[0m\u001b[0;34m\u001b[0m\u001b[0m\n",
            "\u001b[0;31mAttributeError\u001b[0m: module 'csp' has no attribute 'backtracking_search'"
          ]
        }
      ]
    }
  ]
}